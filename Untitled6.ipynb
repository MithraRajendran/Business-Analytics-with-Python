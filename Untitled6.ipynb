{
  "nbformat": 4,
  "nbformat_minor": 0,
  "metadata": {
    "colab": {
      "name": "Untitled6.ipynb",
      "provenance": []
    },
    "kernelspec": {
      "name": "python3",
      "display_name": "Python 3"
    },
    "language_info": {
      "name": "python"
    }
  },
  "cells": [
    {
      "cell_type": "code",
      "execution_count": 6,
      "metadata": {
        "colab": {
          "base_uri": "https://localhost:8080/"
        },
        "id": "MGojoPWCFT9Q",
        "outputId": "def9e10e-23ac-4f0e-bc2c-22f4bb4f0acc"
      },
      "outputs": [
        {
          "output_type": "stream",
          "name": "stdout",
          "text": [
            "[('10', '692-92-5582', 'B', 'Mandalay', 'Member', 'Female', 'Food and beverages', '3', '144', '7445', '13:27', 'Credit card', '164.52', '4.761904762', '8.226', '5.9', '0')]\n"
          ]
        }
      ],
      "source": [
        "import sqlite3\n",
        " \n",
        "conn = sqlite3.connect('SalesDBNew.db')\n",
        "\n",
        "\n",
        " \n",
        "cursor = conn.cursor()\n",
        "cursor.execute(\"SELECT * FROM Supermarket_sales ORDER BY Unitprice LIMIT 1;\")\n",
        " \n",
        "print(cursor.fetchall())\n",
        "\n",
        "conn.commit()\n",
        "conn.close()"
      ]
    },
    {
      "cell_type": "code",
      "source": [
        "import sqlite3\n",
        " \n",
        "conn = sqlite3.connect('SalesDBNew.db')\n",
        "\n",
        "\n",
        " \n",
        "cursor = conn.cursor()\n",
        "cursor.execute(\"SELECT * FROM Supermarket_sales ORDER BY Quantity LIMIT 1;\")\n",
        "\n",
        "print(cursor.fetchall())\n",
        "\n",
        "conn.commit()\n",
        "conn.close()\n"
      ],
      "metadata": {
        "colab": {
          "base_uri": "https://localhost:8080/"
        },
        "id": "zz1O9gVyKFMw",
        "outputId": "c82af3bb-f4aa-487d-d3c6-953c4b9efd2d"
      },
      "execution_count": 7,
      "outputs": [
        {
          "output_type": "stream",
          "name": "stdout",
          "text": [
            "[('27', '649-29-6775', 'B', 'Mandalay', 'Normal', 'Male', 'Fashion accessories', '1', '627', '2314', '15:31', 'Cash', '33.52', '4.761904762', '1.676', '6.7', '52')]\n"
          ]
        }
      ]
    },
    {
      "cell_type": "code",
      "source": [
        "import sqlite3\n",
        " \n",
        "conn = sqlite3.connect('SalesDBNew.db')\n",
        "\n",
        "\n",
        " \n",
        "cursor = conn.cursor()\n",
        "cursor.execute(\"SELECT * FROM Supermarket_sales ORDER BY Quantity DESC LIMIT 1;\") \n",
        "\n",
        "print(cursor.fetchall())\n",
        "\n",
        "conn.commit()\n",
        "conn.close()\n"
      ],
      "metadata": {
        "colab": {
          "base_uri": "https://localhost:8080/"
        },
        "id": "PTsD1vaqKcYa",
        "outputId": "81ef1e77-d426-474b-be52-d2256db3382c"
      },
      "execution_count": 8,
      "outputs": [
        {
          "output_type": "stream",
          "name": "stdout",
          "text": [
            "[('30', '848-62-7243', 'A', 'Yangon', 'Normal', 'Male', 'Health and beauty', '9', '703', '8890', '15:36', 'Cash', '224.01', '4.761904762', '11.2005', '7.4', '1')]\n"
          ]
        }
      ]
    },
    {
      "cell_type": "code",
      "source": [
        "import sqlite3\n",
        " \n",
        "conn = sqlite3.connect('SalesDBNew.db')\n",
        "\n",
        "\n",
        "\n",
        "cursor = conn.cursor()\n",
        "cursor.execute(\"SELECT * FROM Supermarket_sales WHERE Productline = 'Health and Beauty' ORDER BY Quantity LIMIT 1;\")\n",
        "\n",
        "print(cursor.fetchall())\n",
        "\n",
        "conn.commit()\n",
        "conn.close()"
      ],
      "metadata": {
        "colab": {
          "base_uri": "https://localhost:8080/"
        },
        "id": "LbD6Cv6PKscz",
        "outputId": "824f4800-7ad0-42ec-e880-5eef739a6649"
      },
      "execution_count": 9,
      "outputs": [
        {
          "output_type": "stream",
          "name": "stdout",
          "text": [
            "[]\n"
          ]
        }
      ]
    },
    {
      "cell_type": "code",
      "source": [
        "import sqlite3\n",
        " \n",
        "conn = sqlite3.connect('SalesDBNew.db')\n",
        "\n",
        "\n",
        "\n",
        "cursor = conn.cursor()\n",
        "cursor.execute(\"SELECT * FROM Supermarket_sales WHERE Productline = 'Health and Beauty' ORDER BY Quantity DESC LIMIT 1;\")\n",
        "\n",
        "print(cursor.fetchall())\n",
        "\n",
        "conn.commit()\n",
        "conn.close()\n"
      ],
      "metadata": {
        "colab": {
          "base_uri": "https://localhost:8080/"
        },
        "id": "611a6RHAK9Cr",
        "outputId": "baba40cf-418b-4dd6-bac2-55af10a95c17"
      },
      "execution_count": 10,
      "outputs": [
        {
          "output_type": "stream",
          "name": "stdout",
          "text": [
            "[]\n"
          ]
        }
      ]
    },
    {
      "cell_type": "code",
      "source": [
        ""
      ],
      "metadata": {
        "id": "qibcN_RALMSI"
      },
      "execution_count": null,
      "outputs": []
    }
  ]
}