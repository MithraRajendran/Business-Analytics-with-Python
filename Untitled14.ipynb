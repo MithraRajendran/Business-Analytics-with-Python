{
  "nbformat": 4,
  "nbformat_minor": 0,
  "metadata": {
    "colab": {
      "provenance": [],
      "authorship_tag": "ABX9TyOi7EZLfcQGUwUfpwbr1q9o",
      "include_colab_link": true
    },
    "kernelspec": {
      "name": "python3",
      "display_name": "Python 3"
    },
    "language_info": {
      "name": "python"
    }
  },
  "cells": [
    {
      "cell_type": "markdown",
      "metadata": {
        "id": "view-in-github",
        "colab_type": "text"
      },
      "source": [
        "<a href=\"https://colab.research.google.com/github/MithraRajendran/Business-Analytics-with-Python/blob/main/Untitled14.ipynb\" target=\"_parent\"><img src=\"https://colab.research.google.com/assets/colab-badge.svg\" alt=\"Open In Colab\"/></a>"
      ]
    },
    {
      "cell_type": "code",
      "execution_count": 13,
      "metadata": {
        "id": "keWLgRgBOdBS"
      },
      "outputs": [],
      "source": [
        "def Mithra():\n",
        "  print(\"India is my country\")"
      ]
    },
    {
      "cell_type": "code",
      "source": [
        "def MithraRajendran(x):\n",
        "  print(\"Your roll number is\", x)"
      ],
      "metadata": {
        "id": "Q3FRqN6WQqi_"
      },
      "execution_count": 6,
      "outputs": []
    },
    {
      "cell_type": "code",
      "source": [
        "x=int(input(\"Enter your roll no\"))\n",
        "MithraRajendran(x)"
      ],
      "metadata": {
        "colab": {
          "base_uri": "https://localhost:8080/"
        },
        "id": "buZkr8WuSP7x",
        "outputId": "9e1dee60-e89d-4fda-f02c-7f8c8e780eed"
      },
      "execution_count": 7,
      "outputs": [
        {
          "output_type": "stream",
          "name": "stdout",
          "text": [
            "Enter your roll no28\n",
            "Your roll number is 28\n"
          ]
        }
      ]
    },
    {
      "cell_type": "code",
      "source": [
        "def Mithra():\n",
        "  print(\"India is my country\")"
      ],
      "metadata": {
        "id": "io1VOKLQS-hF"
      },
      "execution_count": 11,
      "outputs": []
    },
    {
      "cell_type": "code",
      "source": [
        "Mithra()"
      ],
      "metadata": {
        "colab": {
          "base_uri": "https://localhost:8080/"
        },
        "id": "5PfKpr_pTmf5",
        "outputId": "e75ed03c-9ee6-4e2b-992d-775f1a93071d"
      },
      "execution_count": 12,
      "outputs": [
        {
          "output_type": "stream",
          "name": "stdout",
          "text": [
            "India is my country\n"
          ]
        }
      ]
    },
    {
      "cell_type": "code",
      "source": [
        "def MithraRajendran(x,y,z,a):\n",
        "  print(\"Your name is\",x)\n",
        "  print(\"Your address is\",y)\n",
        "  print(\"Your roll no is\",z)\n",
        "  print(\"Your mail is\", a)"
      ],
      "metadata": {
        "id": "r9qgyZIzTqOs"
      },
      "execution_count": 14,
      "outputs": []
    },
    {
      "cell_type": "code",
      "source": [
        "x=input(\"enter your name\")\n",
        "y=input(\"enter your address\")\n",
        "z=input(\"enter your roll no\")\n",
        "a=input(\"enter your mail\")"
      ],
      "metadata": {
        "colab": {
          "base_uri": "https://localhost:8080/"
        },
        "id": "BG5mLwRrXkD-",
        "outputId": "e2ec1522-88c4-4c0e-fc1d-9b52c680c322"
      },
      "execution_count": 20,
      "outputs": [
        {
          "name": "stdout",
          "output_type": "stream",
          "text": [
            "enter your name Mithra Rajendran\n",
            "enter your addressKalamassery\n",
            "enter your roll no 28\n",
            "enter your mail m1ca254@rajagiri.edu\n"
          ]
        }
      ]
    },
    {
      "cell_type": "code",
      "source": [
        "def first(x):\n",
        "  print(\"first name\",x[0])\n"
      ],
      "metadata": {
        "id": "Y2cdPwZYXsjA"
      },
      "execution_count": 21,
      "outputs": []
    },
    {
      "cell_type": "code",
      "source": [
        "def second(y):\n",
        "  print(\"second name\",y[1])\n"
      ],
      "metadata": {
        "id": "nS2FvnDeaOrX"
      },
      "execution_count": 23,
      "outputs": []
    },
    {
      "cell_type": "code",
      "source": [
        "x=input(\"enter the full name:\")\n",
        "y=x.split(\" \")\n",
        "first(x)\n",
        "second(y)"
      ],
      "metadata": {
        "colab": {
          "base_uri": "https://localhost:8080/"
        },
        "id": "YlaFgJCbaZvp",
        "outputId": "b0208ae0-2ecc-429e-b98c-94a79d3f6c97"
      },
      "execution_count": 24,
      "outputs": [
        {
          "output_type": "stream",
          "name": "stdout",
          "text": [
            "enter the full name: Mithra Rajendran\n",
            "first name  \n",
            "second name Mithra\n"
          ]
        }
      ]
    },
    {
      "cell_type": "code",
      "source": [
        "x=input(\"Enter your full name:\")\n",
        "def firstname(x):\n",
        "    print(x[0:6])\n",
        "def secondname(x):\n",
        "    print(x[7:16])"
      ],
      "metadata": {
        "colab": {
          "base_uri": "https://localhost:8080/"
        },
        "id": "8zBXTi1Ta0OY",
        "outputId": "107b7918-d554-47d4-d164-41ff13016517"
      },
      "execution_count": 32,
      "outputs": [
        {
          "name": "stdout",
          "output_type": "stream",
          "text": [
            "Enter your full name:Mithra Rajendran\n"
          ]
        }
      ]
    },
    {
      "cell_type": "code",
      "source": [
        "firstname(x)\n",
        "secondname(x)"
      ],
      "metadata": {
        "colab": {
          "base_uri": "https://localhost:8080/"
        },
        "id": "sNSILKkkd1PC",
        "outputId": "50e3cb43-812e-4ac3-a103-ae14bdb18aae"
      },
      "execution_count": 33,
      "outputs": [
        {
          "output_type": "stream",
          "name": "stdout",
          "text": [
            "Mithra\n",
            "Rajendran\n"
          ]
        }
      ]
    },
    {
      "cell_type": "code",
      "source": [],
      "metadata": {
        "id": "MEICUIoJgWKc"
      },
      "execution_count": null,
      "outputs": []
    }
  ]
}