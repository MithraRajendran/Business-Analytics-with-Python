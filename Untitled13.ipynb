{
  "nbformat": 4,
  "nbformat_minor": 0,
  "metadata": {
    "colab": {
      "provenance": [],
      "authorship_tag": "ABX9TyM6j77L8FP1AG+z56bx6qIH",
      "include_colab_link": true
    },
    "kernelspec": {
      "name": "python3",
      "display_name": "Python 3"
    },
    "language_info": {
      "name": "python"
    }
  },
  "cells": [
    {
      "cell_type": "markdown",
      "metadata": {
        "id": "view-in-github",
        "colab_type": "text"
      },
      "source": [
        "<a href=\"https://colab.research.google.com/github/MithraRajendran/Business-Analytics-with-Python/blob/main/Untitled13.ipynb\" target=\"_parent\"><img src=\"https://colab.research.google.com/assets/colab-badge.svg\" alt=\"Open In Colab\"/></a>"
      ]
    },
    {
      "cell_type": "code",
      "execution_count": 1,
      "metadata": {
        "colab": {
          "base_uri": "https://localhost:8080/"
        },
        "id": "rbrnSjeIuNWA",
        "outputId": "adafada3-a89f-46ce-b316-84e8da8d784d"
      },
      "outputs": [
        {
          "output_type": "execute_result",
          "data": {
            "text/plain": [
              "16"
            ]
          },
          "metadata": {},
          "execution_count": 1
        }
      ],
      "source": [
        "x = \"Mithra Rajendran\"\n",
        "len(x)"
      ]
    },
    {
      "cell_type": "code",
      "source": [
        "x = [\"John\", \"Mary\", \"David\", \"Adam\"]\n",
        "type(x)"
      ],
      "metadata": {
        "colab": {
          "base_uri": "https://localhost:8080/"
        },
        "id": "TiLZiA7vvD50",
        "outputId": "7627596e-3ee0-4f59-8890-70263895a641"
      },
      "execution_count": 7,
      "outputs": [
        {
          "output_type": "execute_result",
          "data": {
            "text/plain": [
              "list"
            ]
          },
          "metadata": {},
          "execution_count": 7
        }
      ]
    },
    {
      "cell_type": "code",
      "source": [
        "y=[9080,\"Noel\", 20, \"6/12/2002\" , \"Thrissur\"]\n",
        "print(y)\n",
        "print(type(y))"
      ],
      "metadata": {
        "colab": {
          "base_uri": "https://localhost:8080/",
          "height": 35
        },
        "id": "8LyMdrL4v3IO",
        "outputId": "2f564a47-ff8b-497b-8dff-8f88f04dd8cb"
      },
      "execution_count": 11,
      "outputs": [
        {
          "output_type": "execute_result",
          "data": {
            "text/plain": [
              "\"<class 'list'>\""
            ],
            "application/vnd.google.colaboratory.intrinsic+json": {
              "type": "string"
            }
          },
          "metadata": {},
          "execution_count": 11
        }
      ]
    },
    {
      "cell_type": "code",
      "source": [
        "z=[45,76,48,98,70,23,54,72,10,75,82,79,69,31,75,40]\n",
        "print(z)"
      ],
      "metadata": {
        "colab": {
          "base_uri": "https://localhost:8080/",
          "height": 35
        },
        "id": "xD3zruTTxyS7",
        "outputId": "8675d43e-5586-4521-e1da-27ea343dfcfa"
      },
      "execution_count": 13,
      "outputs": [
        {
          "output_type": "execute_result",
          "data": {
            "text/plain": [
              "'[45, 76, 48, 98, 70, 23, 54, 72, 10, 75, 82, 79, 69, 31, 75, 40]'"
            ],
            "application/vnd.google.colaboratory.intrinsic+json": {
              "type": "string"
            }
          },
          "metadata": {},
          "execution_count": 13
        }
      ]
    },
    {
      "cell_type": "code",
      "source": [
        "z[0:3]"
      ],
      "metadata": {
        "colab": {
          "base_uri": "https://localhost:8080/"
        },
        "id": "bc7NXEIkyuuI",
        "outputId": "85ee091d-a992-42cf-f2cb-236d5530fc1d"
      },
      "execution_count": 19,
      "outputs": [
        {
          "output_type": "execute_result",
          "data": {
            "text/plain": [
              "[45, 76, 48]"
            ]
          },
          "metadata": {},
          "execution_count": 19
        }
      ]
    },
    {
      "cell_type": "code",
      "source": [
        "z[8:9]"
      ],
      "metadata": {
        "colab": {
          "base_uri": "https://localhost:8080/"
        },
        "id": "4Ogf8qKFzKLQ",
        "outputId": "2ce3dff2-420c-4717-df16-084fc0b15711"
      },
      "execution_count": 20,
      "outputs": [
        {
          "output_type": "execute_result",
          "data": {
            "text/plain": [
              "[10]"
            ]
          },
          "metadata": {},
          "execution_count": 20
        }
      ]
    },
    {
      "cell_type": "code",
      "source": [
        "z[--8:-3]"
      ],
      "metadata": {
        "colab": {
          "base_uri": "https://localhost:8080/"
        },
        "id": "kV0VzeUzzY9A",
        "outputId": "21fc3857-6723-49a7-e6fd-abcd3a4f35e4"
      },
      "execution_count": 24,
      "outputs": [
        {
          "output_type": "execute_result",
          "data": {
            "text/plain": [
              "[10, 75, 82, 79, 69]"
            ]
          },
          "metadata": {},
          "execution_count": 24
        }
      ]
    },
    {
      "cell_type": "code",
      "source": [
        "z = [45,76,48,98,70,23,54,72,10,75]\n",
        "z[3:2]\n",
        "print(z)"
      ],
      "metadata": {
        "colab": {
          "base_uri": "https://localhost:8080/",
          "height": 35
        },
        "id": "Xl4MpaI6z6y4",
        "outputId": "aff977a6-9cdb-4c0b-dba2-0429bb1c0331"
      },
      "execution_count": 27,
      "outputs": [
        {
          "output_type": "execute_result",
          "data": {
            "text/plain": [
              "'[45, 76, 48, 98, 70, 23, 54, 72, 10, 75]'"
            ],
            "application/vnd.google.colaboratory.intrinsic+json": {
              "type": "string"
            }
          },
          "metadata": {},
          "execution_count": 27
        }
      ]
    },
    {
      "cell_type": "code",
      "source": [
        "y=[9080,\"Noel\", 20, \"6/12/2002\" , \"Thrissur\"]\n",
        "y[4]=\"Rajagiri\"\n",
        "print(y) "
      ],
      "metadata": {
        "colab": {
          "base_uri": "https://localhost:8080/",
          "height": 35
        },
        "id": "AHN8UetG0oOI",
        "outputId": "fddeab39-b25f-405b-9490-377e34fd4906"
      },
      "execution_count": 29,
      "outputs": [
        {
          "output_type": "execute_result",
          "data": {
            "text/plain": [
              "\"[9080, 'Noel', 20, '6/12/2002', 'Rajagiri']\""
            ],
            "application/vnd.google.colaboratory.intrinsic+json": {
              "type": "string"
            }
          },
          "metadata": {},
          "execution_count": 29
        }
      ]
    },
    {
      "cell_type": "code",
      "source": [
        "z = [45,76,48,98,70,23,54,72,10,75]\n",
        "z.append(75)"
      ],
      "metadata": {
        "id": "RgAtnqFy3MYm"
      },
      "execution_count": 30,
      "outputs": []
    },
    {
      "cell_type": "code",
      "source": [
        "c=0\n",
        "s=[]\n",
        "while c<4:\n",
        "  name=input(\"enter name:\")\n",
        "  s.append(name)\n",
        "  c=c+1\n",
        "  print(s)"
      ],
      "metadata": {
        "colab": {
          "base_uri": "https://localhost:8080/"
        },
        "id": "RqYHjE0p4um1",
        "outputId": "a2df5abf-765b-4668-cd59-d9fcce3be198"
      },
      "execution_count": 33,
      "outputs": [
        {
          "name": "stdout",
          "output_type": "stream",
          "text": [
            "enter name:mithra\n",
            "enter name:mithra\n",
            "enter name:mithra\n",
            "enter name:mithra\n"
          ]
        }
      ]
    },
    {
      "cell_type": "code",
      "source": [
        "x = [\"james\", \"stephan\"]\n",
        "y=x.copy\n",
        "print(y)"
      ],
      "metadata": {
        "colab": {
          "base_uri": "https://localhost:8080/",
          "height": 35
        },
        "id": "lLXXunCI8tmv",
        "outputId": "ca9dbee3-b89e-4d3d-a2b3-d079d3215a11"
      },
      "execution_count": 35,
      "outputs": [
        {
          "output_type": "execute_result",
          "data": {
            "text/plain": [
              "'<built-in method copy of list object at 0x7f2186c61ac0>'"
            ],
            "application/vnd.google.colaboratory.intrinsic+json": {
              "type": "string"
            }
          },
          "metadata": {},
          "execution_count": 35
        }
      ]
    },
    {
      "cell_type": "code",
      "source": [
        "x = [\"John\", \"Mary\", \"David\", \"Adam\"]\n",
        "y = ['A', 'B', 'C']\n",
        "x.extend(y)\n",
        "x"
      ],
      "metadata": {
        "colab": {
          "base_uri": "https://localhost:8080/"
        },
        "id": "tNNCxeNW9kEV",
        "outputId": "0d25dbfc-8193-4287-ce0a-243bef722ff1"
      },
      "execution_count": 37,
      "outputs": [
        {
          "output_type": "execute_result",
          "data": {
            "text/plain": [
              "['John', 'Mary', 'David', 'Adam', 'A', 'B', 'C']"
            ]
          },
          "metadata": {},
          "execution_count": 37
        }
      ]
    },
    {
      "cell_type": "code",
      "source": [
        "x =['abc', 5,7,9,10,5,22]\n",
        "x.count(5)"
      ],
      "metadata": {
        "colab": {
          "base_uri": "https://localhost:8080/"
        },
        "id": "xoyWRD0w-VRA",
        "outputId": "830d8514-a939-4f87-b34c-f334dbf579cc"
      },
      "execution_count": 38,
      "outputs": [
        {
          "output_type": "execute_result",
          "data": {
            "text/plain": [
              "2"
            ]
          },
          "metadata": {},
          "execution_count": 38
        }
      ]
    },
    {
      "cell_type": "code",
      "source": [
        "x = [\"John\", \"David\", \"Mary\", \"Adam\"]\n",
        "x[1:3]=[\"Pavithra\",\"Mithra\"]\n",
        "print(x)"
      ],
      "metadata": {
        "colab": {
          "base_uri": "https://localhost:8080/",
          "height": 35
        },
        "id": "4vGq7t41_QID",
        "outputId": "384a7f89-c1ec-4950-e7ec-1f262a87ef28"
      },
      "execution_count": 39,
      "outputs": [
        {
          "output_type": "execute_result",
          "data": {
            "text/plain": [
              "\"['John', 'Pavithra', 'Mithra', 'Adam']\""
            ],
            "application/vnd.google.colaboratory.intrinsic+json": {
              "type": "string"
            }
          },
          "metadata": {},
          "execution_count": 39
        }
      ]
    },
    {
      "cell_type": "code",
      "source": [
        "x = [\"John\", \"Mary\",\"David\", \"Adam\"]\n",
        "x.insert(2,\"James\")\n",
        "print(x)"
      ],
      "metadata": {
        "colab": {
          "base_uri": "https://localhost:8080/",
          "height": 35
        },
        "id": "jOVpOhl9BjQI",
        "outputId": "c6c06d01-d4de-44f5-9b5e-f07f141da869"
      },
      "execution_count": 40,
      "outputs": [
        {
          "output_type": "execute_result",
          "data": {
            "text/plain": [
              "\"['John', 'Mary', 'James', 'David', 'Adam']\""
            ],
            "application/vnd.google.colaboratory.intrinsic+json": {
              "type": "string"
            }
          },
          "metadata": {},
          "execution_count": 40
        }
      ]
    },
    {
      "cell_type": "code",
      "source": [
        "x = [\"John\", \"Mary\",\"David\", \"Adam\"]\n",
        "x.remove(\"John\")\n",
        "print(x)"
      ],
      "metadata": {
        "colab": {
          "base_uri": "https://localhost:8080/",
          "height": 35
        },
        "id": "skA1ugcTCH5P",
        "outputId": "f8fcf0b6-986b-4c8d-93e9-2e8c1823bc7a"
      },
      "execution_count": 43,
      "outputs": [
        {
          "output_type": "execute_result",
          "data": {
            "text/plain": [
              "\"['Mary', 'David', 'Adam']\""
            ],
            "application/vnd.google.colaboratory.intrinsic+json": {
              "type": "string"
            }
          },
          "metadata": {},
          "execution_count": 43
        }
      ]
    },
    {
      "cell_type": "code",
      "source": [],
      "metadata": {
        "id": "nq-C_wFACVSx"
      },
      "execution_count": null,
      "outputs": []
    }
  ]
}